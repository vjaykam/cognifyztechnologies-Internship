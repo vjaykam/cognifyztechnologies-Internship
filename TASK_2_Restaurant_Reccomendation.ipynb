{
  "nbformat": 4,
  "nbformat_minor": 0,
  "metadata": {
    "colab": {
      "provenance": [],
      "authorship_tag": "ABX9TyN9wZiTEUEzx9mQkUSkuVQM",
      "include_colab_link": true
    },
    "kernelspec": {
      "name": "python3",
      "display_name": "Python 3"
    },
    "language_info": {
      "name": "python"
    }
  },
  "cells": [
    {
      "cell_type": "markdown",
      "metadata": {
        "id": "view-in-github",
        "colab_type": "text"
      },
      "source": [
        "<a href=\"https://colab.research.google.com/github/vjaykam/cognifyztechnologies-Internship/blob/main/TASK_2_Restaurant_Reccomendation.ipynb\" target=\"_parent\"><img src=\"https://colab.research.google.com/assets/colab-badge.svg\" alt=\"Open In Colab\"/></a>"
      ]
    },
    {
      "cell_type": "code",
      "execution_count": 1,
      "metadata": {
        "colab": {
          "base_uri": "https://localhost:8080/"
        },
        "id": "nEeGT6P6NyT-",
        "outputId": "735085d1-3f04-4bc8-c426-333ec6268872"
      },
      "outputs": [
        {
          "output_type": "stream",
          "name": "stdout",
          "text": [
            "Current Working Directory: /content\n",
            "File not found. Please ensure the following:\n",
            "- 'Dataset.csv' exists in the current working directory: /content\n",
            "- The file name is spelled correctly (case-sensitive).\n",
            "- The file has been uploaded or created properly.\n"
          ]
        }
      ],
      "source": [
        "# Importing necessary libraries\n",
        "import pandas as pd\n",
        "import os\n",
        "\n",
        "# Get the current working directory\n",
        "current_directory = os.getcwd()\n",
        "print(\"Current Working Directory:\", current_directory)\n",
        "\n",
        "# Construct the absolute path to the file\n",
        "file_path = os.path.join(current_directory, \"Dataset.csv\")  # Change the file name if needed\n",
        "\n",
        "# Load the dataset using a try-except block\n",
        "try:\n",
        "    df = pd.read_csv(file_path)  # Attempt to load from the constructed path\n",
        "    print(\"File loaded successfully!\")\n",
        "except FileNotFoundError:\n",
        "    # If file is not found, print suggestions for debugging\n",
        "    print(\"File not found. Please ensure the following:\")\n",
        "    print(f\"- 'Dataset.csv' exists in the current working directory: {current_directory}\")\n",
        "    print(\"- The file name is spelled correctly (case-sensitive).\")\n",
        "    print(\"- The file has been uploaded or created properly.\")\n",
        "    exit()\n",
        "\n",
        "# Continue with the rest of your code\n"
      ]
    }
  ]
}